{
 "cells": [
  {
   "cell_type": "code",
   "execution_count": 2,
   "metadata": {},
   "outputs": [],
   "source": [
    "import pandas as pd\n",
    "import numpy as np\n",
    "import json "
   ]
  },
  {
   "cell_type": "markdown",
   "metadata": {},
   "source": [
    "Note: when cleaning up, import data as modules "
   ]
  },
  {
   "attachments": {},
   "cell_type": "markdown",
   "metadata": {},
   "source": [
    "### Loading Data and Preprocessing"
   ]
  },
  {
   "attachments": {},
   "cell_type": "markdown",
   "metadata": {},
   "source": [
    "Load data"
   ]
  },
  {
   "cell_type": "code",
   "execution_count": 99,
   "metadata": {},
   "outputs": [],
   "source": [
    "with open('../acled_data/acleddata_jan_aug.json') as f:\n",
    "    data = json.load(f)"
   ]
  },
  {
   "attachments": {},
   "cell_type": "markdown",
   "metadata": {},
   "source": [
    "Convert to pandas df"
   ]
  },
  {
   "cell_type": "code",
   "execution_count": 177,
   "metadata": {},
   "outputs": [],
   "source": [
    "df = pd.DataFrame(data)"
   ]
  },
  {
   "attachments": {},
   "cell_type": "markdown",
   "metadata": {},
   "source": [
    "##### Converting fatalities to numeric format"
   ]
  },
  {
   "cell_type": "code",
   "execution_count": 178,
   "metadata": {},
   "outputs": [],
   "source": [
    "df[\"fatalities\"] = pd.to_numeric(df[\"fatalities\"], errors='coerce')\n"
   ]
  },
  {
   "cell_type": "code",
   "execution_count": 179,
   "metadata": {},
   "outputs": [],
   "source": [
    "df[\"latitude\"] = pd.to_numeric(df[\"latitude\"], errors='coerce')\n",
    "df[\"longitude\"] = pd.to_numeric(df[\"longitude\"], errors='coerce')"
   ]
  },
  {
   "cell_type": "markdown",
   "metadata": {},
   "source": [
    "#### Wounded feature with SpaCy"
   ]
  },
  {
   "cell_type": "code",
   "execution_count": 180,
   "metadata": {},
   "outputs": [],
   "source": [
    "#Extracting the number of wounded from the notes column and adding a new column 'wounded'\n",
    "import spacy\n",
    "from word2number import w2n\n",
    "\n",
    "nlp = spacy.load('en_core_web_md')\n",
    "\n",
    "def extract_wounded(text):\n",
    "    doc = nlp(text)\n",
    "    wounded_count = 0\n",
    "\n",
    "    for token in doc:\n",
    "        if token.text.lower() == 'wounded':\n",
    "            for child in token.children:\n",
    "                if child.pos_ == 'NUM':\n",
    "                    try:\n",
    "                        wounded_count += int(child.text)\n",
    "                    except ValueError:\n",
    "                        wounded_count += w2n.word_to_num(child.text)\n",
    "            if wounded_count == 0:\n",
    "                for ancestor in token.ancestors:\n",
    "                    if ancestor.pos_ == 'NUM':\n",
    "                        try:\n",
    "                            wounded_count += int(ancestor.text)\n",
    "                        except ValueError:\n",
    "                            wounded_count += w2n.word_to_num(ancestor.text)\n",
    "                        break\n",
    "\n",
    "    return wounded_count\n",
    "\n",
    "df['wounded'] = df['notes'].apply(extract_wounded)\n"
   ]
  },
  {
   "cell_type": "code",
   "execution_count": 181,
   "metadata": {},
   "outputs": [],
   "source": [
    "# Step 1a: Parse event_date into a datetime format and extract month and year\n",
    "df[\"event_date\"] = pd.to_datetime(df[\"event_date\"])\n",
    "df[\"month\"] = df[\"event_date\"].dt.month\n",
    "df[\"year\"] = df[\"event_date\"].dt.year\n"
   ]
  },
  {
   "cell_type": "code",
   "execution_count": 182,
   "metadata": {},
   "outputs": [],
   "source": [
    "# Combining fatalities + wounded into casualties\n",
    "df['casualties'] = df['fatalities']+df['wounded']"
   ]
  },
  {
   "cell_type": "code",
   "execution_count": 294,
   "metadata": {},
   "outputs": [],
   "source": [
    "grouped_columns = [\"admin1\", \"admin2\", \"admin3\", \"location\", \"latitude\", \"longitude\", \"event_date\", \"year\", \"month\", \"event_type\", \"civilian_targeting\"]\n",
    "\n",
    "# Aggregate data by location, date, and event_type\n",
    "df_agg = df.groupby(grouped_columns).agg(\n",
    "    num_events=pd.NamedAgg(column='event_type', aggfunc='size'),\n",
    "    total_casualties=pd.NamedAgg(column='casualties', aggfunc='sum')\n",
    ").reset_index()\n"
   ]
  },
  {
   "cell_type": "markdown",
   "metadata": {},
   "source": [
    "#### Battlefront Proximity Feature"
   ]
  },
  {
   "cell_type": "markdown",
   "metadata": {},
   "source": [
    "I thought it would be a good idea to create a feature that will represent the proximity of locations to known hot zones where armed clashes occur, which in turn increases the chances of artillery shelling, drones, and missiles strikes affecting said areas. For this batch, I will limit the pool of hot zones to 4 locations: Bakhmut, Soledar, Avdiivka, Vuhledar. Those locations are known as battlefronts where frequent heavy armed clashes between opposing forces occur therefore anything close to them is very likely to be affected. \n",
    "\n",
    "In order to create this feature, I will compute the distance between locations in the data set to the hot zones by calculationg the distance between two sets of latitude and longitude points by using the Haversine formula."
   ]
  },
  {
   "cell_type": "code",
   "execution_count": 217,
   "metadata": {},
   "outputs": [],
   "source": [
    "def haversine(lat1, lon1, lat2, lon2):\n",
    "    # Convert latitude and longitude to radians\n",
    "    lat1, lon1, lat2, lon2 = map(np.radians, [lat1, lon1, lat2, lon2])\n",
    "\n",
    "    # Haversine formula\n",
    "    dlat = lat2 - lat1\n",
    "    dlon = lon2 - lon1\n",
    "    a = np.sin(dlat/2)**2 + np.cos(lat1) * np.cos(lat2) * np.sin(dlon/2)**2\n",
    "    c = 2 * np.arcsin(np.sqrt(a))\n",
    "\n",
    "    # Earth radius in kilometers\n",
    "    earth_radius = 6371\n",
    "\n",
    "    # Calculate the distance\n",
    "    distance = earth_radius * c\n",
    "    return distance\n"
   ]
  },
  {
   "cell_type": "code",
   "execution_count": 218,
   "metadata": {},
   "outputs": [],
   "source": [
    "#Define coordinates of the the battlefront towns\n",
    "bakhmut_coords = (48.5956, 37.9999)\n",
    "soledar_coords = (48.6833, 38.0667)\n",
    "avdiivka_coords = (48.1394, 37.7497)\n",
    "vuhledar_coords = (48.7798, 37.2490)\n",
    "robotyne_coords = (47.44992394238662, 35.83787190517212)\n",
    "kupiansk_coords = (49.7160738622855, 37.596104878691285)"
   ]
  },
  {
   "cell_type": "code",
   "execution_count": 296,
   "metadata": {},
   "outputs": [],
   "source": [
    "#apply the haversine function to the dataset to calculate \n",
    "#the distances to each town and find the minimum distance:\n",
    "df_agg['distance_to_bakhmut'] = haversine(df_agg['latitude'], df_agg['longitude'], bakhmut_coords[0], bakhmut_coords[1])\n",
    "df_agg['distance_to_soledar'] = haversine(df_agg['latitude'], df_agg['longitude'], soledar_coords[0], soledar_coords[1])\n",
    "df_agg['distance_to_avdiivka'] = haversine(df_agg['latitude'], df_agg['longitude'], avdiivka_coords[0], avdiivka_coords[1])\n",
    "df_agg['distance_to_vuhledar'] = haversine(df_agg['latitude'], df_agg['longitude'], vuhledar_coords[0], vuhledar_coords[1])\n",
    "df_agg['distance_to_robotyne'] = haversine(df_agg['latitude'], df_agg['longitude'], robotyne_coords[0], robotyne_coords[1])\n",
    "df_agg['distance_to_kupiansk'] = haversine(df_agg['latitude'], df_agg['longitude'], kupiansk_coords[0], kupiansk_coords[1])\n",
    "\n",
    "\n",
    "df_agg['min_distance_to_battlefront'] = df_agg[['distance_to_bakhmut', 'distance_to_soledar', 'distance_to_avdiivka', 'distance_to_vuhledar', 'distance_to_robotyne', 'distance_to_kupiansk']].min(axis=1)\n",
    "\n",
    "# Drop the temporary distance columns\n",
    "df_agg = df_agg.drop(columns=['distance_to_bakhmut', 'distance_to_soledar', 'distance_to_avdiivka', 'distance_to_vuhledar', 'distance_to_robotyne', 'distance_to_kupiansk'])\n",
    "\n"
   ]
  },
  {
   "cell_type": "markdown",
   "metadata": {},
   "source": [
    "In order to capture the importance of proximity, we will experiment with distance transformation"
   ]
  },
  {
   "cell_type": "code",
   "execution_count": 297,
   "metadata": {},
   "outputs": [],
   "source": [
    "df_agg['log_min_distance_to_battlefront'] = np.log(df_agg['min_distance_to_battlefront'] + 1)\n"
   ]
  },
  {
   "cell_type": "code",
   "execution_count": 287,
   "metadata": {},
   "outputs": [],
   "source": [
    "decay_factor = 0.1  # This is just a starting point, you can adjust based on domain knowledge or experimentation.\n",
    "df_agg['exp_decay_distance'] = np.exp(-decay_factor * df_agg['min_distance_to_battlefront'])\n"
   ]
  },
  {
   "cell_type": "markdown",
   "metadata": {},
   "source": [
    "#### One-Hot Encoding"
   ]
  },
  {
   "cell_type": "code",
   "execution_count": 298,
   "metadata": {},
   "outputs": [],
   "source": [
    "# Encode civilian_targeting as a binary column\n",
    "df_agg['civilian_targeting_encoded'] = df_agg['civilian_targeting'].apply(lambda x: 1 if x == 'Civilian targeting' else 0)"
   ]
  },
  {
   "cell_type": "code",
   "execution_count": 299,
   "metadata": {},
   "outputs": [],
   "source": [
    "# One-hot encoding for Battles\n",
    "df_agg['event_type_battles'] = (df_agg['event_type'] == 'Battles').astype(int)\n",
    "\n",
    "# One-hot encoding for Explosions/Remote violence without civilian targeting\n",
    "df_agg['event_type_explosion'] = ((df_agg['event_type'] == 'Explosion/Remote violence') & (df_agg['civilian_targeting_encoded'] == 0)).astype(int)\n",
    "\n",
    "# One-hot encoding for Explosions/Remote violence with civilian targeting\n",
    "df_agg['event_type_explosion_civilians'] = ((df_agg['event_type'] == 'Explosion/Remote violence') & (df_agg['civilian_targeting_encoded'] == 1)).astype(int)\n",
    "\n",
    "# One-hot encoding for Violence against civilians\n",
    "df_agg['event_type_violence_civilians'] = (df_agg['event_type'] == 'Violence against civilians').astype(int)\n"
   ]
  },
  {
   "cell_type": "markdown",
   "metadata": {},
   "source": [
    "#### Normalizing the data with StandardScaler"
   ]
  },
  {
   "cell_type": "code",
   "execution_count": 300,
   "metadata": {},
   "outputs": [],
   "source": [
    "from sklearn.preprocessing import StandardScaler\n",
    "\n",
    "# Define features to scale\n",
    "features_to_scale = ['total_casualties', 'num_events', 'log_min_distance_to_battlefront']\n",
    "\n",
    "\n",
    "# Initialize the scaler\n",
    "scaler = StandardScaler()\n",
    "\n",
    "# Fit and transform the features\n",
    "df_agg[features_to_scale] = scaler.fit_transform(df_agg[features_to_scale])\n"
   ]
  },
  {
   "cell_type": "markdown",
   "metadata": {},
   "source": [
    "#### Hazard Score "
   ]
  },
  {
   "cell_type": "markdown",
   "metadata": {},
   "source": [
    "Now that we have reduced the engineered features into 'tsne_reduced' to capture each locations intensity, we will now calculate a holistic hazard score based on each locations minimal distance to the battlefront. \n",
    "\n",
    "- First we will convert the 'min_distance_to_battlefront' feature into a distance score using exponential decay.\n",
    "- Then we will combine the 'tsne_reduced' values (which already range between 0 to 100) and the 'distance_score' using a weighted sum to create the final hazard score:"
   ]
  },
  {
   "cell_type": "markdown",
   "metadata": {},
   "source": [
    "Due to unreported casualties, the current model suffers from memory loss. Hence, even if a location is close to the battlefield or is the battlefield, it might lose its hazard rating simply due to missing data in casualties. In order to fix this, we will apply a lingering effect, where a high casualty event will propagate its hazard score up to 2 weeks. The criteria for this effect is to have a min distance score of 80 (so that we ignore remote areas that suffer from a missile strike on civilians) and have a high casualty event occur within a week from the event in question."
   ]
  },
  {
   "cell_type": "code",
   "execution_count": 301,
   "metadata": {},
   "outputs": [],
   "source": [
    "from sklearn.decomposition import PCA\n",
    "\n",
    "# Features for PCA\n",
    "features_for_pca = [\n",
    "    'total_casualties', 'num_events', 'log_min_distance_to_battlefront',  # or 'exp_decay_distance'\n",
    "    'event_type_battles', 'event_type_explosion', 'event_type_explosion_civilians', 'event_type_violence_civilians'\n",
    "]\n",
    "\n",
    "pca = PCA(n_components=2)  # or another suitable number of components\n",
    "principal_components = pca.fit_transform(df_agg[features_for_pca])\n",
    "\n",
    "# Convert to a DataFrame for easier handling\n",
    "df_pca = pd.DataFrame(data=principal_components, columns=['PC1', 'PC2'])\n",
    "\n",
    "# Optionally, calculate a hazard score based on the principal components.\n",
    "# This is just a starting point; you might want to try different combinations of the PCs.\n",
    "df_agg['hazard_score'] = df_pca['PC1'] + df_pca['PC2']"
   ]
  },
  {
   "cell_type": "code",
   "execution_count": 314,
   "metadata": {},
   "outputs": [],
   "source": [
    "df_agg['hazard_score'] = ((df_agg['hazard_score'] - df_agg['hazard_score'].min()) / (df_agg['hazard_score'].max() - df_agg['hazard_score'].min()) * 100) *5"
   ]
  },
  {
   "cell_type": "markdown",
   "metadata": {},
   "source": [
    "#### Score Propagation for Memory Loss Prevention"
   ]
  },
  {
   "cell_type": "code",
   "execution_count": 83,
   "metadata": {},
   "outputs": [],
   "source": [
    "# Initialize a new column to track when a high casualty event took place\n",
    "df_agg['high_casualty_event_date'] = np.nan\n",
    "\n",
    "# Populate the high_casualty_event_date column for rows where casualties > 0\n",
    "df_agg.loc[df_agg['casualties'] > 0, 'high_casualty_event_date'] = df_agg['event_date']\n",
    "\n",
    "# Forward fill the high_casualty_event_date column for 14 days or until another casualty event\n",
    "df_agg['high_casualty_event_date'] = df_agg.groupby('location')['high_casualty_event_date'].transform(lambda x: x.ffill(limit=14))\n",
    "\n",
    "# For rows where casualties = 0 and are within 14 days of a high casualty event, and distance_score is high,\n",
    "# set the hazard score to be the same as the previous day\n",
    "mask = (df_agg['casualties'] == 0) & (~df_agg['high_casualty_event_date'].isna()) & (df_agg['distance_score'] >= 80)\n",
    "df_agg.loc[mask, 'hazard_score'] = df_agg.groupby('location')['hazard_score'].shift(1)\n",
    "\n",
    "# Drop the high_casualty_event_date column, it's no longer needed\n",
    "df_agg = df_agg.drop(columns=['high_casualty_event_date'])\n"
   ]
  },
  {
   "cell_type": "markdown",
   "metadata": {},
   "source": [
    "Formatting data to handle inconsistencies with naming and missing values"
   ]
  },
  {
   "cell_type": "code",
   "execution_count": 48,
   "metadata": {},
   "outputs": [],
   "source": [
    "df_agg.loc[df_agg['admin2']=='Kyiv', 'admin3'] = 'Kyiv'"
   ]
  },
  {
   "cell_type": "code",
   "execution_count": 49,
   "metadata": {},
   "outputs": [],
   "source": [
    "df_agg.loc[df_agg['location']=='Kherson', 'admin2'] = 'Khersonskyi'"
   ]
  },
  {
   "cell_type": "code",
   "execution_count": 50,
   "metadata": {},
   "outputs": [],
   "source": [
    "df_agg = df_agg[~df_agg['admin3'].str.strip().eq('')]\n"
   ]
  },
  {
   "cell_type": "code",
   "execution_count": 51,
   "metadata": {},
   "outputs": [],
   "source": [
    "df_agg.to_csv('Hazards_latest.csv', index=False)"
   ]
  },
  {
   "cell_type": "code",
   "execution_count": 316,
   "metadata": {},
   "outputs": [
    {
     "data": {
      "text/html": [
       "<div>\n",
       "<style scoped>\n",
       "    .dataframe tbody tr th:only-of-type {\n",
       "        vertical-align: middle;\n",
       "    }\n",
       "\n",
       "    .dataframe tbody tr th {\n",
       "        vertical-align: top;\n",
       "    }\n",
       "\n",
       "    .dataframe thead th {\n",
       "        text-align: right;\n",
       "    }\n",
       "</style>\n",
       "<table border=\"1\" class=\"dataframe\">\n",
       "  <thead>\n",
       "    <tr style=\"text-align: right;\">\n",
       "      <th></th>\n",
       "      <th>admin1</th>\n",
       "      <th>admin2</th>\n",
       "      <th>admin3</th>\n",
       "      <th>location</th>\n",
       "      <th>latitude</th>\n",
       "      <th>longitude</th>\n",
       "      <th>event_date</th>\n",
       "      <th>year</th>\n",
       "      <th>month</th>\n",
       "      <th>event_type</th>\n",
       "      <th>...</th>\n",
       "      <th>num_events</th>\n",
       "      <th>total_casualties</th>\n",
       "      <th>min_distance_to_battlefront</th>\n",
       "      <th>log_min_distance_to_battlefront</th>\n",
       "      <th>civilian_targeting_encoded</th>\n",
       "      <th>event_type_battles</th>\n",
       "      <th>event_type_explosion</th>\n",
       "      <th>event_type_explosion_civilians</th>\n",
       "      <th>event_type_violence_civilians</th>\n",
       "      <th>hazard_score</th>\n",
       "    </tr>\n",
       "  </thead>\n",
       "  <tbody>\n",
       "    <tr>\n",
       "      <th>1299</th>\n",
       "      <td>Donetsk</td>\n",
       "      <td>Bakhmutskyi</td>\n",
       "      <td>Bakhmutska</td>\n",
       "      <td>Bakhmut</td>\n",
       "      <td>48.5956</td>\n",
       "      <td>37.9999</td>\n",
       "      <td>2023-07-24</td>\n",
       "      <td>2023</td>\n",
       "      <td>7</td>\n",
       "      <td>Battles</td>\n",
       "      <td>...</td>\n",
       "      <td>-0.059236</td>\n",
       "      <td>-0.146179</td>\n",
       "      <td>0.0</td>\n",
       "      <td>-2.939715</td>\n",
       "      <td>0</td>\n",
       "      <td>1</td>\n",
       "      <td>0</td>\n",
       "      <td>0</td>\n",
       "      <td>0</td>\n",
       "      <td>21.978394</td>\n",
       "    </tr>\n",
       "    <tr>\n",
       "      <th>1300</th>\n",
       "      <td>Donetsk</td>\n",
       "      <td>Bakhmutskyi</td>\n",
       "      <td>Bakhmutska</td>\n",
       "      <td>Bakhmut</td>\n",
       "      <td>48.5956</td>\n",
       "      <td>37.9999</td>\n",
       "      <td>2023-07-26</td>\n",
       "      <td>2023</td>\n",
       "      <td>7</td>\n",
       "      <td>Battles</td>\n",
       "      <td>...</td>\n",
       "      <td>-0.059236</td>\n",
       "      <td>-0.146179</td>\n",
       "      <td>0.0</td>\n",
       "      <td>-2.939715</td>\n",
       "      <td>0</td>\n",
       "      <td>1</td>\n",
       "      <td>0</td>\n",
       "      <td>0</td>\n",
       "      <td>0</td>\n",
       "      <td>21.978394</td>\n",
       "    </tr>\n",
       "    <tr>\n",
       "      <th>1301</th>\n",
       "      <td>Donetsk</td>\n",
       "      <td>Bakhmutskyi</td>\n",
       "      <td>Bakhmutska</td>\n",
       "      <td>Bakhmut</td>\n",
       "      <td>48.5956</td>\n",
       "      <td>37.9999</td>\n",
       "      <td>2023-07-27</td>\n",
       "      <td>2023</td>\n",
       "      <td>7</td>\n",
       "      <td>Battles</td>\n",
       "      <td>...</td>\n",
       "      <td>-0.059236</td>\n",
       "      <td>-0.146179</td>\n",
       "      <td>0.0</td>\n",
       "      <td>-2.939715</td>\n",
       "      <td>0</td>\n",
       "      <td>1</td>\n",
       "      <td>0</td>\n",
       "      <td>0</td>\n",
       "      <td>0</td>\n",
       "      <td>21.978394</td>\n",
       "    </tr>\n",
       "    <tr>\n",
       "      <th>1302</th>\n",
       "      <td>Donetsk</td>\n",
       "      <td>Bakhmutskyi</td>\n",
       "      <td>Bakhmutska</td>\n",
       "      <td>Bakhmut</td>\n",
       "      <td>48.5956</td>\n",
       "      <td>37.9999</td>\n",
       "      <td>2023-08-03</td>\n",
       "      <td>2023</td>\n",
       "      <td>8</td>\n",
       "      <td>Battles</td>\n",
       "      <td>...</td>\n",
       "      <td>-0.059236</td>\n",
       "      <td>-0.146179</td>\n",
       "      <td>0.0</td>\n",
       "      <td>-2.939715</td>\n",
       "      <td>0</td>\n",
       "      <td>1</td>\n",
       "      <td>0</td>\n",
       "      <td>0</td>\n",
       "      <td>0</td>\n",
       "      <td>21.978394</td>\n",
       "    </tr>\n",
       "    <tr>\n",
       "      <th>1303</th>\n",
       "      <td>Donetsk</td>\n",
       "      <td>Bakhmutskyi</td>\n",
       "      <td>Bakhmutska</td>\n",
       "      <td>Bakhmut</td>\n",
       "      <td>48.5956</td>\n",
       "      <td>37.9999</td>\n",
       "      <td>2023-08-04</td>\n",
       "      <td>2023</td>\n",
       "      <td>8</td>\n",
       "      <td>Battles</td>\n",
       "      <td>...</td>\n",
       "      <td>-0.059236</td>\n",
       "      <td>-0.146179</td>\n",
       "      <td>0.0</td>\n",
       "      <td>-2.939715</td>\n",
       "      <td>0</td>\n",
       "      <td>1</td>\n",
       "      <td>0</td>\n",
       "      <td>0</td>\n",
       "      <td>0</td>\n",
       "      <td>21.978394</td>\n",
       "    </tr>\n",
       "  </tbody>\n",
       "</table>\n",
       "<p>5 rows × 21 columns</p>\n",
       "</div>"
      ],
      "text/plain": [
       "       admin1       admin2      admin3 location  latitude  longitude   \n",
       "1299  Donetsk  Bakhmutskyi  Bakhmutska  Bakhmut   48.5956    37.9999  \\\n",
       "1300  Donetsk  Bakhmutskyi  Bakhmutska  Bakhmut   48.5956    37.9999   \n",
       "1301  Donetsk  Bakhmutskyi  Bakhmutska  Bakhmut   48.5956    37.9999   \n",
       "1302  Donetsk  Bakhmutskyi  Bakhmutska  Bakhmut   48.5956    37.9999   \n",
       "1303  Donetsk  Bakhmutskyi  Bakhmutska  Bakhmut   48.5956    37.9999   \n",
       "\n",
       "     event_date  year  month event_type  ... num_events  total_casualties   \n",
       "1299 2023-07-24  2023      7    Battles  ...  -0.059236         -0.146179  \\\n",
       "1300 2023-07-26  2023      7    Battles  ...  -0.059236         -0.146179   \n",
       "1301 2023-07-27  2023      7    Battles  ...  -0.059236         -0.146179   \n",
       "1302 2023-08-03  2023      8    Battles  ...  -0.059236         -0.146179   \n",
       "1303 2023-08-04  2023      8    Battles  ...  -0.059236         -0.146179   \n",
       "\n",
       "      min_distance_to_battlefront  log_min_distance_to_battlefront   \n",
       "1299                          0.0                        -2.939715  \\\n",
       "1300                          0.0                        -2.939715   \n",
       "1301                          0.0                        -2.939715   \n",
       "1302                          0.0                        -2.939715   \n",
       "1303                          0.0                        -2.939715   \n",
       "\n",
       "      civilian_targeting_encoded  event_type_battles  event_type_explosion   \n",
       "1299                           0                   1                     0  \\\n",
       "1300                           0                   1                     0   \n",
       "1301                           0                   1                     0   \n",
       "1302                           0                   1                     0   \n",
       "1303                           0                   1                     0   \n",
       "\n",
       "      event_type_explosion_civilians  event_type_violence_civilians   \n",
       "1299                               0                              0  \\\n",
       "1300                               0                              0   \n",
       "1301                               0                              0   \n",
       "1302                               0                              0   \n",
       "1303                               0                              0   \n",
       "\n",
       "      hazard_score  \n",
       "1299     21.978394  \n",
       "1300     21.978394  \n",
       "1301     21.978394  \n",
       "1302     21.978394  \n",
       "1303     21.978394  \n",
       "\n",
       "[5 rows x 21 columns]"
      ]
     },
     "execution_count": 316,
     "metadata": {},
     "output_type": "execute_result"
    }
   ],
   "source": [
    "df_agg[df_agg['location']=='Bakhmut'].tail()"
   ]
  }
 ],
 "metadata": {
  "kernelspec": {
   "display_name": "mlenv",
   "language": "python",
   "name": "mlenv"
  },
  "language_info": {
   "codemirror_mode": {
    "name": "ipython",
    "version": 3
   },
   "file_extension": ".py",
   "mimetype": "text/x-python",
   "name": "python",
   "nbconvert_exporter": "python",
   "pygments_lexer": "ipython3",
   "version": "3.11.4"
  },
  "orig_nbformat": 4
 },
 "nbformat": 4,
 "nbformat_minor": 2
}
