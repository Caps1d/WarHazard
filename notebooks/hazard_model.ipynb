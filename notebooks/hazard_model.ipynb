{
 "cells": [
  {
   "cell_type": "code",
   "execution_count": 1,
   "metadata": {},
   "outputs": [],
   "source": [
    "import pandas as pd\n",
    "import numpy as np\n",
    "import json "
   ]
  },
  {
   "cell_type": "markdown",
   "metadata": {},
   "source": [
    "Note: when cleaning up, import data as modules "
   ]
  },
  {
   "attachments": {},
   "cell_type": "markdown",
   "metadata": {},
   "source": [
    "### Loading Data and Preprocessing"
   ]
  },
  {
   "attachments": {},
   "cell_type": "markdown",
   "metadata": {},
   "source": [
    "Load data"
   ]
  },
  {
   "cell_type": "code",
   "execution_count": 2,
   "metadata": {},
   "outputs": [],
   "source": [
    "with open('../acled_data/acleddata_jan_aug.json') as f:\n",
    "    data = json.load(f)"
   ]
  },
  {
   "attachments": {},
   "cell_type": "markdown",
   "metadata": {},
   "source": [
    "Convert to pandas df"
   ]
  },
  {
   "cell_type": "code",
   "execution_count": 3,
   "metadata": {},
   "outputs": [],
   "source": [
    "df = pd.DataFrame(data)"
   ]
  },
  {
   "attachments": {},
   "cell_type": "markdown",
   "metadata": {},
   "source": [
    "##### Converting fatalities to numeric format"
   ]
  },
  {
   "cell_type": "code",
   "execution_count": 4,
   "metadata": {},
   "outputs": [],
   "source": [
    "df[\"fatalities\"] = pd.to_numeric(df[\"fatalities\"], errors='coerce')\n"
   ]
  },
  {
   "cell_type": "code",
   "execution_count": 5,
   "metadata": {},
   "outputs": [],
   "source": [
    "df[\"latitude\"] = pd.to_numeric(df[\"latitude\"], errors='coerce')\n",
    "df[\"longitude\"] = pd.to_numeric(df[\"longitude\"], errors='coerce')"
   ]
  },
  {
   "cell_type": "markdown",
   "metadata": {},
   "source": [
    "#### Wounded feature with SpaCy"
   ]
  },
  {
   "cell_type": "code",
   "execution_count": 6,
   "metadata": {},
   "outputs": [],
   "source": [
    "#Extracting the number of wounded from the notes column and adding a new column 'wounded'\n",
    "import spacy\n",
    "from word2number import w2n\n",
    "\n",
    "nlp = spacy.load('en_core_web_md')\n",
    "\n",
    "def extract_wounded(text):\n",
    "    doc = nlp(text)\n",
    "    wounded_count = 0\n",
    "\n",
    "    for token in doc:\n",
    "        if token.text.lower() == 'wounded':\n",
    "            for child in token.children:\n",
    "                if child.pos_ == 'NUM':\n",
    "                    try:\n",
    "                        wounded_count += int(child.text)\n",
    "                    except ValueError:\n",
    "                        wounded_count += w2n.word_to_num(child.text)\n",
    "            if wounded_count == 0:\n",
    "                for ancestor in token.ancestors:\n",
    "                    if ancestor.pos_ == 'NUM':\n",
    "                        try:\n",
    "                            wounded_count += int(ancestor.text)\n",
    "                        except ValueError:\n",
    "                            wounded_count += w2n.word_to_num(ancestor.text)\n",
    "                        break\n",
    "\n",
    "    return wounded_count\n",
    "\n",
    "df['wounded'] = df['notes'].apply(extract_wounded)\n"
   ]
  },
  {
   "cell_type": "code",
   "execution_count": 7,
   "metadata": {},
   "outputs": [],
   "source": [
    "# Step 1a: Parse event_date into a datetime format and extract month and year\n",
    "df[\"event_date\"] = pd.to_datetime(df[\"event_date\"])\n",
    "df[\"month\"] = df[\"event_date\"].dt.month\n",
    "df[\"year\"] = df[\"event_date\"].dt.year\n"
   ]
  },
  {
   "cell_type": "code",
   "execution_count": 8,
   "metadata": {},
   "outputs": [],
   "source": [
    "# Combining fatalities + wounded into casualties\n",
    "df['casualties'] = df['fatalities']+df['wounded']"
   ]
  },
  {
   "cell_type": "code",
   "execution_count": 846,
   "metadata": {},
   "outputs": [],
   "source": [
    "grouped_columns = [\"admin1\", \"admin2\", \"admin3\", \"location\", \"latitude\", \"longitude\", \"event_date\", \"year\", \"month\", \"event_type\", \"civilian_targeting\"]\n",
    "\n",
    "# Aggregate data by location, date, and event_type\n",
    "df_agg = df.groupby(grouped_columns).agg(\n",
    "    num_events=pd.NamedAgg(column='event_type', aggfunc='size'),\n",
    "    total_casualties=pd.NamedAgg(column='casualties', aggfunc='sum')\n",
    ").reset_index()\n"
   ]
  },
  {
   "cell_type": "markdown",
   "metadata": {},
   "source": [
    "#### Battlefront Proximity Feature"
   ]
  },
  {
   "cell_type": "code",
   "execution_count": 847,
   "metadata": {},
   "outputs": [],
   "source": [
    "def haversine(lat1, lon1, lat2, lon2):\n",
    "    # Convert latitude and longitude to radians\n",
    "    lat1, lon1, lat2, lon2 = map(np.radians, [lat1, lon1, lat2, lon2])\n",
    "\n",
    "    # Haversine formula\n",
    "    dlat = lat2 - lat1\n",
    "    dlon = lon2 - lon1\n",
    "    a = np.sin(dlat/2)**2 + np.cos(lat1) * np.cos(lat2) * np.sin(dlon/2)**2\n",
    "    c = 2 * np.arcsin(np.sqrt(a))\n",
    "\n",
    "    # Earth radius in kilometers\n",
    "    earth_radius = 6371\n",
    "\n",
    "    # Calculate the distance\n",
    "    distance = earth_radius * c\n",
    "    return distance\n"
   ]
  },
  {
   "cell_type": "code",
   "execution_count": 848,
   "metadata": {},
   "outputs": [],
   "source": [
    "#Define coordinates of the the battlefront towns\n",
    "bakhmut_coords = (48.5956, 37.9999)\n",
    "soledar_coords = (48.6833, 38.0667)\n",
    "avdiivka_coords = (48.1394, 37.7497)\n",
    "vuhledar_coords = (48.7798, 37.2490)\n",
    "robotyne_coords = (47.44992394238662, 35.83787190517212)\n",
    "kupiansk_coords = (49.7160738622855, 37.596104878691285)"
   ]
  },
  {
   "cell_type": "code",
   "execution_count": 849,
   "metadata": {},
   "outputs": [],
   "source": [
    "#apply the haversine function to the dataset to calculate \n",
    "#the distances to each town and find the minimum distance:\n",
    "df_agg['distance_to_bakhmut'] = haversine(df_agg['latitude'], df_agg['longitude'], bakhmut_coords[0], bakhmut_coords[1])\n",
    "df_agg['distance_to_soledar'] = haversine(df_agg['latitude'], df_agg['longitude'], soledar_coords[0], soledar_coords[1])\n",
    "df_agg['distance_to_avdiivka'] = haversine(df_agg['latitude'], df_agg['longitude'], avdiivka_coords[0], avdiivka_coords[1])\n",
    "df_agg['distance_to_vuhledar'] = haversine(df_agg['latitude'], df_agg['longitude'], vuhledar_coords[0], vuhledar_coords[1])\n",
    "df_agg['distance_to_robotyne'] = haversine(df_agg['latitude'], df_agg['longitude'], robotyne_coords[0], robotyne_coords[1])\n",
    "df_agg['distance_to_kupiansk'] = haversine(df_agg['latitude'], df_agg['longitude'], kupiansk_coords[0], kupiansk_coords[1])\n",
    "\n",
    "\n",
    "df_agg['min_distance_to_battlefront'] = df_agg[['distance_to_bakhmut', 'distance_to_soledar', 'distance_to_avdiivka', 'distance_to_vuhledar', 'distance_to_robotyne', 'distance_to_kupiansk']].min(axis=1)\n",
    "\n",
    "# Drop the temporary distance columns\n",
    "df_agg = df_agg.drop(columns=['distance_to_bakhmut', 'distance_to_soledar', 'distance_to_avdiivka', 'distance_to_vuhledar', 'distance_to_robotyne', 'distance_to_kupiansk'])\n",
    "\n"
   ]
  },
  {
   "cell_type": "markdown",
   "metadata": {},
   "source": [
    "#### One-Hot Encoding"
   ]
  },
  {
   "cell_type": "code",
   "execution_count": 850,
   "metadata": {},
   "outputs": [],
   "source": [
    "# Encode civilian_targeting as a binary column\n",
    "df_agg['civilian_targeting_encoded'] = df_agg['civilian_targeting'].apply(lambda x: 1 if x == 'Civilian targeting' else 0)"
   ]
  },
  {
   "cell_type": "markdown",
   "metadata": {},
   "source": [
    "#### Hazard Score "
   ]
  },
  {
   "cell_type": "code",
   "execution_count": 851,
   "metadata": {},
   "outputs": [],
   "source": [
    "# Keep the distance points calculation as is\n",
    "df_agg['distance_points'] = 50 * np.exp(-decay_factor * df_agg['min_distance_to_battlefront'])\n",
    "\n",
    "# Adjust the event type points calculation based on our new approach\n",
    "def event_points(row):\n",
    "    # Check for 'Explosions/Remote violence' with civilian targeting\n",
    "    if row['event_type'] == 'Explosions/Remote violence' and row['civilian_targeting_encoded'] == 1:\n",
    "        return 15  # As per your earlier score for 'Explosions with civilians'\n",
    "\n",
    "    # Check for 'Explosions/Remote violence' without civilian targeting\n",
    "    elif row['event_type'] == 'Explosions/Remote violence' and row['civilian_targeting_encoded'] == 0:\n",
    "        return 10  # As per your earlier score for 'Explosions'\n",
    "\n",
    "    # Check for 'Battles'\n",
    "    elif row['event_type'] == 'Battles':\n",
    "        return 40  # As per your earlier score for 'Battles'\n",
    "    \n",
    "    # Check for 'Violence against civilians'\n",
    "    elif row['event_type'] == 'Violence against civilians':\n",
    "        return 25  # Assigning 25 as an arbitrary score for 'Violence against civilians', adjust as needed\n",
    "\n",
    "    # Otherwise, assume 'Others'\n",
    "    else:\n",
    "        return 5  # As per your earlier score for 'Others'\n",
    "\n",
    "df_agg['event_type_points'] = df_agg.apply(event_points, axis=1)\n",
    "\n",
    "# Keep the frequency points and casualty points calculations as they are\n",
    "df_agg['frequency_points'] = 20 * (df_agg['num_events'] / df_agg['num_events'].max())\n",
    "df_agg['casualty_points'] = 10 * (df_agg['total_casualties'] / df_agg['total_casualties'].max())\n",
    "\n",
    "# Final hazard score calculation\n",
    "df_agg['hazard_score'] = df_agg['distance_points'] + df_agg['event_type_points'] + df_agg['frequency_points'] + df_agg['casualty_points']"
   ]
  },
  {
   "cell_type": "code",
   "execution_count": 852,
   "metadata": {},
   "outputs": [],
   "source": [
    "df_agg['hazard_score'] = df_agg['hazard_score'].clip(0, 100)\n"
   ]
  },
  {
   "cell_type": "code",
   "execution_count": 853,
   "metadata": {},
   "outputs": [],
   "source": [
    "df_agg['hazard_score'] = df_agg['hazard_score'].round(0)\n"
   ]
  },
  {
   "cell_type": "markdown",
   "metadata": {},
   "source": [
    "#### Hazard Level diffusion"
   ]
  },
  {
   "cell_type": "code",
   "execution_count": 854,
   "metadata": {},
   "outputs": [],
   "source": [
    "# Step 1: Extract high hazard locations\n",
    "high_hazard_locs = df_agg[df_agg['hazard_score'] >= 80][['latitude', 'longitude', 'hazard_score']].values\n",
    "\n",
    "# Step 2: Function to compute distances\n",
    "def compute_distances(lat, lon, high_hazard_locs):\n",
    "    lat_diff = np.radians(high_hazard_locs[:, 0] - lat)\n",
    "    lon_diff = np.radians(high_hazard_locs[:, 1] - lon)\n",
    "    \n",
    "    a = np.sin(lat_diff / 2.0)**2 + \\\n",
    "        np.cos(np.radians(lat)) * np.cos(np.radians(high_hazard_locs[:, 0])) * \\\n",
    "        np.sin(lon_diff / 2.0)**2\n",
    "    \n",
    "    c = 2 * np.arctan2(np.sqrt(a), np.sqrt(1-a))\n",
    "    distances = 6371.01 * c  # Convert to kilometers\n",
    "    return distances\n",
    "\n",
    "# Filter df_agg to get locations with hazard_score < 60\n",
    "low_hazard_df = df_agg[df_agg['hazard_score'] < 70].copy()\n",
    "\n",
    "# Generate distances matrix for locations with hazard score < 60\n",
    "low_hazard_df['distances'] = low_hazard_df.apply(lambda row: compute_distances(row['latitude'], row['longitude'], high_hazard_locs), axis=1)\n",
    "\n",
    "# Step 3: Function to compute inherited hazard\n",
    "def inherited_hazard(distances, hazard_scores):\n",
    "    max_distance = 80  # in km\n",
    "\n",
    "    # Calculate decayed values based on distance: linear decay from 0.5 at 0km to 0 at 40km\n",
    "    decayed_weights = 0.2 * (1 - (distances / max_distance))\n",
    "\n",
    "    # Ensure that distances beyond 40km don't contribute\n",
    "    decayed_weights[distances > max_distance] = 0\n",
    "    \n",
    "    # Multiply the decayed weights by the hazard scores to get the inherited values\n",
    "    inherited_values = decayed_weights * hazard_scores\n",
    "\n",
    "    return sum(inherited_values)\n",
    "\n",
    "# Compute inherited hazard and update the final hazard score for locations with hazard score < 60\n",
    "low_hazard_df['inherited_hazard_level'] = low_hazard_df['distances'].apply(lambda d: inherited_hazard(d, high_hazard_locs[:, 2]))\n",
    "low_hazard_df['hazard_score'] += low_hazard_df['inherited_hazard_level']\n",
    "low_hazard_df['hazard_score'] = low_hazard_df['hazard_score'].clip(0, 100)\n",
    "\n",
    "# Update the original df_agg with updated hazard scores for locations with hazard score < 60\n",
    "df_agg.update(low_hazard_df)\n"
   ]
  },
  {
   "cell_type": "code",
   "execution_count": 824,
   "metadata": {},
   "outputs": [],
   "source": []
  },
  {
   "cell_type": "markdown",
   "metadata": {},
   "source": [
    "Formatting data to handle inconsistencies with naming and missing values"
   ]
  },
  {
   "cell_type": "code",
   "execution_count": 855,
   "metadata": {},
   "outputs": [],
   "source": [
    "df_agg.loc[df_agg['admin2']=='Kyiv', 'admin3'] = 'Kyiv'"
   ]
  },
  {
   "cell_type": "code",
   "execution_count": 856,
   "metadata": {},
   "outputs": [],
   "source": [
    "df_agg.loc[df_agg['location']=='Kherson', 'admin2'] = 'Khersonskyi'"
   ]
  },
  {
   "cell_type": "code",
   "execution_count": 857,
   "metadata": {},
   "outputs": [],
   "source": [
    "df_agg = df_agg[~df_agg['admin3'].str.strip().eq('')]\n"
   ]
  },
  {
   "cell_type": "code",
   "execution_count": 858,
   "metadata": {},
   "outputs": [],
   "source": [
    "df_agg.to_csv('Hazards_latest.csv', index=False)"
   ]
  },
  {
   "cell_type": "code",
   "execution_count": 786,
   "metadata": {},
   "outputs": [],
   "source": [
    "# df_agg[df_agg['location']=='Robotyne']"
   ]
  },
  {
   "cell_type": "code",
   "execution_count": 845,
   "metadata": {},
   "outputs": [
    {
     "data": {
      "text/plain": [
       "17.0"
      ]
     },
     "execution_count": 845,
     "metadata": {},
     "output_type": "execute_result"
    }
   ],
   "source": [
    "df_agg['hazard_score'].min()"
   ]
  }
 ],
 "metadata": {
  "kernelspec": {
   "display_name": "mlenv",
   "language": "python",
   "name": "mlenv"
  },
  "language_info": {
   "codemirror_mode": {
    "name": "ipython",
    "version": 3
   },
   "file_extension": ".py",
   "mimetype": "text/x-python",
   "name": "python",
   "nbconvert_exporter": "python",
   "pygments_lexer": "ipython3",
   "version": "3.11.4"
  },
  "orig_nbformat": 4
 },
 "nbformat": 4,
 "nbformat_minor": 2
}
