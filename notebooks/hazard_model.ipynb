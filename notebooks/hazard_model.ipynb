{
 "cells": [
  {
   "cell_type": "code",
   "execution_count": 2,
   "metadata": {},
   "outputs": [],
   "source": [
    "import pandas as pd\n",
    "import numpy as np\n",
    "import json "
   ]
  },
  {
   "cell_type": "markdown",
   "metadata": {},
   "source": [
    "Note: when cleaning up, import data as modules "
   ]
  },
  {
   "attachments": {},
   "cell_type": "markdown",
   "metadata": {},
   "source": [
    "### Loading Data and Preprocessing"
   ]
  },
  {
   "attachments": {},
   "cell_type": "markdown",
   "metadata": {},
   "source": [
    "Load data"
   ]
  },
  {
   "cell_type": "code",
   "execution_count": 3,
   "metadata": {},
   "outputs": [],
   "source": [
    "with open('../acled_data/acleddata_jan_aug.json') as f:\n",
    "    data = json.load(f)"
   ]
  },
  {
   "attachments": {},
   "cell_type": "markdown",
   "metadata": {},
   "source": [
    "Convert to pandas df"
   ]
  },
  {
   "cell_type": "code",
   "execution_count": 4,
   "metadata": {},
   "outputs": [],
   "source": [
    "df = pd.DataFrame(data)"
   ]
  },
  {
   "attachments": {},
   "cell_type": "markdown",
   "metadata": {},
   "source": [
    "##### Converting fatalities to numeric format"
   ]
  },
  {
   "cell_type": "code",
   "execution_count": 5,
   "metadata": {},
   "outputs": [],
   "source": [
    "df[\"fatalities\"] = pd.to_numeric(df[\"fatalities\"], errors='coerce')\n"
   ]
  },
  {
   "cell_type": "code",
   "execution_count": 6,
   "metadata": {},
   "outputs": [],
   "source": [
    "df[\"latitude\"] = pd.to_numeric(df[\"latitude\"], errors='coerce')\n",
    "df[\"longitude\"] = pd.to_numeric(df[\"longitude\"], errors='coerce')"
   ]
  },
  {
   "cell_type": "markdown",
   "metadata": {},
   "source": [
    "#### Wounded feature with SpaCy"
   ]
  },
  {
   "cell_type": "code",
   "execution_count": 7,
   "metadata": {},
   "outputs": [],
   "source": [
    "#Extracting the number of wounded from the notes column and adding a new column 'wounded'\n",
    "import spacy\n",
    "from word2number import w2n\n",
    "\n",
    "nlp = spacy.load('en_core_web_md')\n",
    "\n",
    "def extract_wounded(text):\n",
    "    doc = nlp(text)\n",
    "    wounded_count = 0\n",
    "\n",
    "    for token in doc:\n",
    "        if token.text.lower() == 'wounded':\n",
    "            for child in token.children:\n",
    "                if child.pos_ == 'NUM':\n",
    "                    try:\n",
    "                        wounded_count += int(child.text)\n",
    "                    except ValueError:\n",
    "                        wounded_count += w2n.word_to_num(child.text)\n",
    "            if wounded_count == 0:\n",
    "                for ancestor in token.ancestors:\n",
    "                    if ancestor.pos_ == 'NUM':\n",
    "                        try:\n",
    "                            wounded_count += int(ancestor.text)\n",
    "                        except ValueError:\n",
    "                            wounded_count += w2n.word_to_num(ancestor.text)\n",
    "                        break\n",
    "\n",
    "    return wounded_count\n",
    "\n",
    "df['wounded'] = df['notes'].apply(extract_wounded)\n"
   ]
  },
  {
   "cell_type": "code",
   "execution_count": 8,
   "metadata": {},
   "outputs": [],
   "source": [
    "# Step 1a: Parse event_date into a datetime format and extract month and year\n",
    "df[\"event_date\"] = pd.to_datetime(df[\"event_date\"])\n",
    "df[\"month\"] = df[\"event_date\"].dt.month\n",
    "df[\"year\"] = df[\"event_date\"].dt.year\n"
   ]
  },
  {
   "cell_type": "code",
   "execution_count": 9,
   "metadata": {},
   "outputs": [],
   "source": [
    "# Combining fatalities + wounded into casualties\n",
    "df['casualties'] = df['fatalities']+df['wounded']"
   ]
  },
  {
   "cell_type": "code",
   "execution_count": 10,
   "metadata": {},
   "outputs": [],
   "source": [
    "grouped_columns = [\"admin1\", \"admin2\", \"admin3\", \"location\", \"latitude\", \"longitude\", \"event_date\", \"year\", \"month\", \"event_type\", \"civilian_targeting\"]\n",
    "\n",
    "# Aggregate data by location, date, and event_type\n",
    "df_agg = df.groupby(grouped_columns).agg(\n",
    "    num_events=pd.NamedAgg(column='event_type', aggfunc='size'),\n",
    "    total_casualties=pd.NamedAgg(column='casualties', aggfunc='sum')\n",
    ").reset_index()\n"
   ]
  },
  {
   "cell_type": "markdown",
   "metadata": {},
   "source": [
    "#### Battlefront Proximity Feature"
   ]
  },
  {
   "cell_type": "code",
   "execution_count": 11,
   "metadata": {},
   "outputs": [],
   "source": [
    "def haversine(lat1, lon1, lat2, lon2):\n",
    "    # Convert latitude and longitude to radians\n",
    "    lat1, lon1, lat2, lon2 = map(np.radians, [lat1, lon1, lat2, lon2])\n",
    "\n",
    "    # Haversine formula\n",
    "    dlat = lat2 - lat1\n",
    "    dlon = lon2 - lon1\n",
    "    a = np.sin(dlat/2)**2 + np.cos(lat1) * np.cos(lat2) * np.sin(dlon/2)**2\n",
    "    c = 2 * np.arcsin(np.sqrt(a))\n",
    "\n",
    "    # Earth radius in kilometers\n",
    "    earth_radius = 6371\n",
    "\n",
    "    # Calculate the distance\n",
    "    distance = earth_radius * c\n",
    "    return distance\n"
   ]
  },
  {
   "cell_type": "code",
   "execution_count": 12,
   "metadata": {},
   "outputs": [],
   "source": [
    "#Define coordinates of the the battlefront towns\n",
    "bakhmut_coords = (48.5956, 37.9999)\n",
    "soledar_coords = (48.6833, 38.0667)\n",
    "avdiivka_coords = (48.1394, 37.7497)\n",
    "vuhledar_coords = (48.7798, 37.2490)\n",
    "robotyne_coords = (47.44992394238662, 35.83787190517212)\n",
    "kupiansk_coords = (49.7160738622855, 37.596104878691285)"
   ]
  },
  {
   "cell_type": "code",
   "execution_count": 13,
   "metadata": {},
   "outputs": [],
   "source": [
    "#apply the haversine function to the dataset to calculate \n",
    "#the distances to each town and find the minimum distance:\n",
    "df_agg['distance_to_bakhmut'] = haversine(df_agg['latitude'], df_agg['longitude'], bakhmut_coords[0], bakhmut_coords[1])\n",
    "df_agg['distance_to_soledar'] = haversine(df_agg['latitude'], df_agg['longitude'], soledar_coords[0], soledar_coords[1])\n",
    "df_agg['distance_to_avdiivka'] = haversine(df_agg['latitude'], df_agg['longitude'], avdiivka_coords[0], avdiivka_coords[1])\n",
    "df_agg['distance_to_vuhledar'] = haversine(df_agg['latitude'], df_agg['longitude'], vuhledar_coords[0], vuhledar_coords[1])\n",
    "df_agg['distance_to_robotyne'] = haversine(df_agg['latitude'], df_agg['longitude'], robotyne_coords[0], robotyne_coords[1])\n",
    "df_agg['distance_to_kupiansk'] = haversine(df_agg['latitude'], df_agg['longitude'], kupiansk_coords[0], kupiansk_coords[1])\n",
    "\n",
    "\n",
    "df_agg['min_distance_to_battlefront'] = df_agg[['distance_to_bakhmut', 'distance_to_soledar', 'distance_to_avdiivka', 'distance_to_vuhledar', 'distance_to_robotyne', 'distance_to_kupiansk']].min(axis=1)\n",
    "\n",
    "# Drop the temporary distance columns\n",
    "df_agg = df_agg.drop(columns=['distance_to_bakhmut', 'distance_to_soledar', 'distance_to_avdiivka', 'distance_to_vuhledar', 'distance_to_robotyne', 'distance_to_kupiansk'])\n",
    "\n"
   ]
  },
  {
   "cell_type": "markdown",
   "metadata": {},
   "source": [
    "#### One-Hot Encoding"
   ]
  },
  {
   "cell_type": "code",
   "execution_count": 14,
   "metadata": {},
   "outputs": [],
   "source": [
    "# Encode civilian_targeting as a binary column\n",
    "df_agg['civilian_targeting_encoded'] = df_agg['civilian_targeting'].apply(lambda x: 1 if x == 'Civilian targeting' else 0)"
   ]
  },
  {
   "cell_type": "code",
   "execution_count": 15,
   "metadata": {},
   "outputs": [],
   "source": [
    "# One-hot encode event_type and incorporate civilian_targeting_encoded for 'Explosions/Remote violence'\n",
    "df_agg['event_battles'] = (df_agg['event_type'] == 'Battles').astype(int)\n",
    "df_agg['event_explosions'] = ((df_agg['event_type'] == 'Explosions/Remote violence') & (df_agg['civilian_targeting_encoded'] == 0)).astype(int)\n",
    "df_agg['event_explosions_civilians'] = ((df_agg['event_type'] == 'Explosions/Remote violence') & (df_agg['civilian_targeting_encoded'] == 1)).astype(int)\n",
    "df_agg['event_violence_civilians'] = (df_agg['event_type'] == 'Violence against civilians').astype(int)\n"
   ]
  },
  {
   "cell_type": "markdown",
   "metadata": {},
   "source": [
    "### T-SNE Variant"
   ]
  },
  {
   "cell_type": "markdown",
   "metadata": {},
   "source": [
    "Scaling"
   ]
  },
  {
   "cell_type": "code",
   "execution_count": 16,
   "metadata": {},
   "outputs": [],
   "source": [
    "from sklearn.preprocessing import MinMaxScaler\n",
    "from sklearn.manifold import TSNE\n",
    "\n",
    "# Selecting the columns we want to input into t-SNE\n",
    "features = ['num_events', 'total_casualties', 'event_battles', 'event_explosions', 'event_explosions_civilians', 'event_violence_civilians']\n",
    "\n",
    "# Normalize the features\n",
    "scaler = MinMaxScaler()\n",
    "scaled_features = scaler.fit_transform(df_agg[features])"
   ]
  },
  {
   "cell_type": "markdown",
   "metadata": {},
   "source": [
    "1-D t-SNE"
   ]
  },
  {
   "cell_type": "code",
   "execution_count": null,
   "metadata": {},
   "outputs": [],
   "source": [
    "# # Apply t-SNE. We use 1 component to obtain a single value for hazard.\n",
    "# tsne = TSNE(n_components=1, random_state=42)\n",
    "# df_agg['tsne_hazard'] = tsne.fit_transform(scaled_features)"
   ]
  },
  {
   "cell_type": "markdown",
   "metadata": {},
   "source": [
    "2-D Embeddings from t-SNE"
   ]
  },
  {
   "cell_type": "code",
   "execution_count": 17,
   "metadata": {},
   "outputs": [],
   "source": [
    "tsne = TSNE(n_components=2, random_state=42)\n",
    "tsne_results = tsne.fit_transform(scaled_features)\n",
    "df_agg['tsne_0'] = tsne_results[:, 0]\n",
    "df_agg['tsne_1'] = tsne_results[:, 1]"
   ]
  },
  {
   "cell_type": "markdown",
   "metadata": {},
   "source": [
    "Applying KDE"
   ]
  },
  {
   "cell_type": "code",
   "execution_count": 18,
   "metadata": {},
   "outputs": [],
   "source": [
    "from scipy.stats import gaussian_kde\n",
    "\n",
    "# KDE on t-SNE results\n",
    "kde = gaussian_kde(np.vstack([df_agg['tsne_0'], df_agg['tsne_1']]))\n",
    "density = kde(np.vstack([df_agg['tsne_0'], df_agg['tsne_1']]))\n",
    "\n",
    "# Identify the densest point\n",
    "densest_idx = np.argmax(density)\n",
    "densest_point = (df_agg.iloc[densest_idx]['tsne_0'], df_agg.iloc[densest_idx]['tsne_1'])\n"
   ]
  },
  {
   "cell_type": "markdown",
   "metadata": {},
   "source": [
    "Compute Densest Point"
   ]
  },
  {
   "cell_type": "code",
   "execution_count": 19,
   "metadata": {},
   "outputs": [],
   "source": [
    "df_agg['distance_to_densest'] = np.sqrt((df_agg['tsne_0'] - densest_point[0])**2 + (df_agg['tsne_1'] - densest_point[1])**2)"
   ]
  },
  {
   "cell_type": "markdown",
   "metadata": {},
   "source": [
    "Convert Distances into Scores"
   ]
  },
  {
   "cell_type": "code",
   "execution_count": 20,
   "metadata": {},
   "outputs": [],
   "source": [
    "decay_factor = 0.05  # This is just an example value; adjust as needed\n",
    "df_agg['tsne_distance_points'] = 50 * np.exp(-decay_factor * df_agg['distance_to_densest'])\n"
   ]
  },
  {
   "cell_type": "markdown",
   "metadata": {},
   "source": [
    "Proximity based Score on 'min_distance_to_battlefront'"
   ]
  },
  {
   "cell_type": "code",
   "execution_count": 21,
   "metadata": {},
   "outputs": [],
   "source": [
    "df_agg['distance_points'] = 100 * np.exp(-decay_factor * df_agg['min_distance_to_battlefront'])"
   ]
  },
  {
   "cell_type": "markdown",
   "metadata": {},
   "source": [
    "Hazard Score"
   ]
  },
  {
   "cell_type": "code",
   "execution_count": 22,
   "metadata": {},
   "outputs": [],
   "source": [
    "# Combine tsne_distance_points with distance_points using the weights you provided to obtain the final hazard_score.\n",
    "weight_distance = 0.7  # This is the weight for the distance to the battlefront\n",
    "weight_tsne = 0.3     # This is the weight for the t-SNE derived score\n",
    "\n",
    "df_agg['hazard_score'] = (df_agg['distance_points'] * weight_distance) + (df_agg['tsne_distance_points'] * weight_tsne)\n",
    "\n",
    "# Normalize the hazard_score\n",
    "min_hazard = df_agg['hazard_score'].min()\n",
    "max_hazard = df_agg['hazard_score'].max()\n",
    "\n",
    "# Apply Min-Max scaling to adjust scores between 0 and 100\n",
    "df_agg['hazard_score'] = ((df_agg['hazard_score'] - min_hazard) / (max_hazard - min_hazard)) * 100\n",
    "df_agg['hazard_score'] = df_agg['hazard_score'].round(0)\n"
   ]
  },
  {
   "cell_type": "code",
   "execution_count": 23,
   "metadata": {},
   "outputs": [],
   "source": [
    "df_agg.loc[df_agg['min_distance_to_battlefront'] <= 30, 'hazard_score'] = 100\n"
   ]
  },
  {
   "cell_type": "code",
   "execution_count": 24,
   "metadata": {},
   "outputs": [],
   "source": [
    "df_agg.loc[df_agg['hazard_score'] < 30, 'hazard_score'] = 30\n"
   ]
  },
  {
   "cell_type": "code",
   "execution_count": 25,
   "metadata": {},
   "outputs": [],
   "source": [
    "df_agg.loc[df_agg['event_type'] == 'Battles', 'hazard_score'] = 100\n"
   ]
  },
  {
   "cell_type": "markdown",
   "metadata": {},
   "source": [
    "#### Hazard Level diffusion"
   ]
  },
  {
   "cell_type": "markdown",
   "metadata": {},
   "source": [
    "Logic:\n",
    "\n",
    "- Identify high hazard locations\n",
    "- Function to check whether there's a row with a matching admin1 column. If a match is found compute the distance between the coordinates, record the distance between them. Iterate through all locations within that admin1 border and whenever we have a shorter distance we replace the old one. Also, record the hazard score of the location which has the shortest distance to our location. \n",
    "- If our row's admin1 isn't matching with any of the locations we skip the element and move to the next.\n",
    "- This location will be incremented by a decayed amount of hazard level from the hot zone, depending on how far away it is. Percentage inheritance up to testing. "
   ]
  },
  {
   "cell_type": "code",
   "execution_count": 94,
   "metadata": {},
   "outputs": [],
   "source": [
    "# Step 0: Importing the Haversine package - I want to try this version instead of the one implemented earlier\n",
    "from haversine import haversine\n",
    "\n",
    "# Step 1: Extract high hazard locations\n",
    "high_hazard_locs = df_agg[df_agg['hazard_score'] >= 80][['admin1','latitude', 'longitude', 'hazard_score']]\n",
    "\n",
    "high_hazard_locs = high_hazard_locs.drop_duplicates(subset=['latitude', 'longitude'], keep=False)\n",
    "\n",
    "# Step 2: Identify locations within 50km radius using row-wise function\n",
    "def compute_distance(row, locations):\n",
    "    if row['admin1'] in locations['admin1'].values:\n",
    "        # find the index of the first occurrence\n",
    "        idx = locations[locations['admin1']==row['admin1']].index[0]\n",
    "        # vars for distance and score\n",
    "        distance = 81 # this is a baseline value to flag the one's that are outside of radius\n",
    "        hazard = 0 \n",
    "        for i, r in locations.loc[idx:].iterrows():\n",
    "            if r['admin1'] == row['admin1']:\n",
    "                # compute distance between two locations \n",
    "                # check if its within 50km \n",
    "                delta = haversine((row['latitude'],row['longitude']), (r['latitude'],r['longitude']), unit='km')\n",
    "                if delta <= distance:\n",
    "                    distance = delta\n",
    "                    hazard = r['hazard_score']\n",
    "            else:\n",
    "                break\n",
    "        # apply exponential decay to distance\n",
    "        hazard_decayed = 0.8*hazard * (1-0.02)**(distance)\n",
    "        return row['hazard_score']+hazard_decayed\n",
    "        \n",
    "        \n",
    "    return row['hazard_score']\n",
    "\n",
    "# Step 2.5: test row-wise matching\n",
    "\n",
    "df_agg['hazard_score'] = df_agg.apply(lambda x: compute_distance(x, high_hazard_locs) if x['hazard_score']<80 else x['hazard_score'], axis=1)\n",
    "# df_agg['distance_high_hazard'] = df_agg.combine(high_hazard_locs, lambda x, y: compute_distance(x,y))"
   ]
  },
  {
   "cell_type": "code",
   "execution_count": 96,
   "metadata": {},
   "outputs": [],
   "source": [
    "df_agg['hazard_score'] = df_agg['hazard_score'].clip(0,100)\n",
    "df_agg['hazard_score'] = df_agg['hazard_score'].round(0)"
   ]
  },
  {
   "cell_type": "code",
   "execution_count": 97,
   "metadata": {},
   "outputs": [
    {
     "data": {
      "text/plain": [
       "hazard_score\n",
       "100.0    15613\n",
       "30.0      1105\n",
       "97.0       625\n",
       "84.0       559\n",
       "95.0       558\n",
       "92.0       457\n",
       "93.0       425\n",
       "86.0       416\n",
       "85.0       372\n",
       "64.0       349\n",
       "98.0       349\n",
       "75.0       321\n",
       "90.0       321\n",
       "94.0       296\n",
       "99.0       289\n",
       "63.0       284\n",
       "70.0       277\n",
       "81.0       263\n",
       "78.0       260\n",
       "65.0       245\n",
       "82.0       243\n",
       "61.0       194\n",
       "89.0       193\n",
       "91.0       191\n",
       "73.0       184\n",
       "79.0       157\n",
       "96.0       151\n",
       "83.0       151\n",
       "87.0       148\n",
       "77.0       140\n",
       "66.0       133\n",
       "71.0       122\n",
       "67.0       120\n",
       "56.0       119\n",
       "62.0       111\n",
       "69.0       108\n",
       "60.0       107\n",
       "48.0        97\n",
       "59.0        93\n",
       "76.0        84\n",
       "68.0        76\n",
       "57.0        75\n",
       "88.0        71\n",
       "50.0        71\n",
       "74.0        71\n",
       "58.0        60\n",
       "51.0        45\n",
       "55.0        44\n",
       "49.0        35\n",
       "72.0        35\n",
       "80.0        33\n",
       "54.0        30\n",
       "53.0        18\n",
       "52.0        13\n",
       "46.0         4\n",
       "47.0         4\n",
       "Name: count, dtype: int64"
      ]
     },
     "execution_count": 97,
     "metadata": {},
     "output_type": "execute_result"
    }
   ],
   "source": [
    "df_agg['hazard_score'].value_counts()"
   ]
  },
  {
   "cell_type": "markdown",
   "metadata": {},
   "source": [
    "Formatting data to handle inconsistencies with naming and missing values"
   ]
  },
  {
   "cell_type": "code",
   "execution_count": 87,
   "metadata": {},
   "outputs": [],
   "source": [
    "df_agg.loc[df_agg['admin2']=='Kyiv', 'admin3'] = 'Kyiv'"
   ]
  },
  {
   "cell_type": "code",
   "execution_count": 88,
   "metadata": {},
   "outputs": [],
   "source": [
    "df_agg.loc[df_agg['location']=='Kherson', 'admin2'] = 'Khersonskyi'"
   ]
  },
  {
   "cell_type": "code",
   "execution_count": 89,
   "metadata": {},
   "outputs": [],
   "source": [
    "df_agg = df_agg[~df_agg['admin3'].str.strip().eq('')]\n"
   ]
  },
  {
   "cell_type": "code",
   "execution_count": 182,
   "metadata": {},
   "outputs": [],
   "source": [
    "df_agg.to_csv('Hazards_latest.csv', index=False)"
   ]
  },
  {
   "cell_type": "code",
   "execution_count": 98,
   "metadata": {},
   "outputs": [
    {
     "data": {
      "text/html": [
       "<div>\n",
       "<style scoped>\n",
       "    .dataframe tbody tr th:only-of-type {\n",
       "        vertical-align: middle;\n",
       "    }\n",
       "\n",
       "    .dataframe tbody tr th {\n",
       "        vertical-align: top;\n",
       "    }\n",
       "\n",
       "    .dataframe thead th {\n",
       "        text-align: right;\n",
       "    }\n",
       "</style>\n",
       "<table border=\"1\" class=\"dataframe\">\n",
       "  <thead>\n",
       "    <tr style=\"text-align: right;\">\n",
       "      <th></th>\n",
       "      <th>admin1</th>\n",
       "      <th>admin2</th>\n",
       "      <th>admin3</th>\n",
       "      <th>location</th>\n",
       "      <th>latitude</th>\n",
       "      <th>longitude</th>\n",
       "      <th>event_date</th>\n",
       "      <th>year</th>\n",
       "      <th>month</th>\n",
       "      <th>event_type</th>\n",
       "      <th>...</th>\n",
       "      <th>event_explosions_civilians</th>\n",
       "      <th>event_violence_civilians</th>\n",
       "      <th>tsne_0</th>\n",
       "      <th>tsne_1</th>\n",
       "      <th>distance_to_densest</th>\n",
       "      <th>tsne_distance_points</th>\n",
       "      <th>distance_points</th>\n",
       "      <th>hazard_score</th>\n",
       "      <th>found</th>\n",
       "      <th>new_hazard</th>\n",
       "    </tr>\n",
       "  </thead>\n",
       "  <tbody>\n",
       "    <tr>\n",
       "      <th>0</th>\n",
       "      <td>Cherkasy</td>\n",
       "      <td>Cherkaskyi</td>\n",
       "      <td>Chepkaska</td>\n",
       "      <td>Cherkasy</td>\n",
       "      <td>49.4285</td>\n",
       "      <td>32.0621</td>\n",
       "      <td>2023-05-09</td>\n",
       "      <td>2023</td>\n",
       "      <td>5</td>\n",
       "      <td>Explosions/Remote violence</td>\n",
       "      <td>...</td>\n",
       "      <td>0</td>\n",
       "      <td>0</td>\n",
       "      <td>-78.562019</td>\n",
       "      <td>-5.883148</td>\n",
       "      <td>0.000000</td>\n",
       "      <td>5.000000e+01</td>\n",
       "      <td>1.968596e-06</td>\n",
       "      <td>30.0</td>\n",
       "      <td>False</td>\n",
       "      <td>30.0</td>\n",
       "    </tr>\n",
       "    <tr>\n",
       "      <th>1</th>\n",
       "      <td>Cherkasy</td>\n",
       "      <td>Cherkaskyi</td>\n",
       "      <td>Chepkaska</td>\n",
       "      <td>Cherkasy</td>\n",
       "      <td>49.4285</td>\n",
       "      <td>32.0621</td>\n",
       "      <td>2023-06-28</td>\n",
       "      <td>2023</td>\n",
       "      <td>6</td>\n",
       "      <td>Explosions/Remote violence</td>\n",
       "      <td>...</td>\n",
       "      <td>0</td>\n",
       "      <td>0</td>\n",
       "      <td>-78.562019</td>\n",
       "      <td>-5.883148</td>\n",
       "      <td>0.000000</td>\n",
       "      <td>5.000000e+01</td>\n",
       "      <td>1.968596e-06</td>\n",
       "      <td>30.0</td>\n",
       "      <td>False</td>\n",
       "      <td>30.0</td>\n",
       "    </tr>\n",
       "    <tr>\n",
       "      <th>2</th>\n",
       "      <td>Cherkasy</td>\n",
       "      <td>Cherkaskyi</td>\n",
       "      <td>Chepkaska</td>\n",
       "      <td>Cherkasy</td>\n",
       "      <td>49.4285</td>\n",
       "      <td>32.0621</td>\n",
       "      <td>2023-07-06</td>\n",
       "      <td>2023</td>\n",
       "      <td>7</td>\n",
       "      <td>Explosions/Remote violence</td>\n",
       "      <td>...</td>\n",
       "      <td>0</td>\n",
       "      <td>0</td>\n",
       "      <td>-78.562019</td>\n",
       "      <td>-5.883148</td>\n",
       "      <td>0.000000</td>\n",
       "      <td>5.000000e+01</td>\n",
       "      <td>1.968596e-06</td>\n",
       "      <td>30.0</td>\n",
       "      <td>False</td>\n",
       "      <td>30.0</td>\n",
       "    </tr>\n",
       "    <tr>\n",
       "      <th>3</th>\n",
       "      <td>Cherkasy</td>\n",
       "      <td>Cherkaskyi</td>\n",
       "      <td>Chepkaska</td>\n",
       "      <td>Cherkasy</td>\n",
       "      <td>49.4285</td>\n",
       "      <td>32.0621</td>\n",
       "      <td>2023-07-12</td>\n",
       "      <td>2023</td>\n",
       "      <td>7</td>\n",
       "      <td>Explosions/Remote violence</td>\n",
       "      <td>...</td>\n",
       "      <td>1</td>\n",
       "      <td>0</td>\n",
       "      <td>87.655083</td>\n",
       "      <td>188.640533</td>\n",
       "      <td>255.866348</td>\n",
       "      <td>1.389641e-04</td>\n",
       "      <td>1.968596e-06</td>\n",
       "      <td>30.0</td>\n",
       "      <td>False</td>\n",
       "      <td>30.0</td>\n",
       "    </tr>\n",
       "    <tr>\n",
       "      <th>4</th>\n",
       "      <td>Cherkasy</td>\n",
       "      <td>Cherkaskyi</td>\n",
       "      <td>Chepkaska</td>\n",
       "      <td>Cherkasy</td>\n",
       "      <td>49.4285</td>\n",
       "      <td>32.0621</td>\n",
       "      <td>2023-07-25</td>\n",
       "      <td>2023</td>\n",
       "      <td>7</td>\n",
       "      <td>Explosions/Remote violence</td>\n",
       "      <td>...</td>\n",
       "      <td>0</td>\n",
       "      <td>0</td>\n",
       "      <td>-78.562019</td>\n",
       "      <td>-5.883148</td>\n",
       "      <td>0.000000</td>\n",
       "      <td>5.000000e+01</td>\n",
       "      <td>1.968596e-06</td>\n",
       "      <td>30.0</td>\n",
       "      <td>False</td>\n",
       "      <td>30.0</td>\n",
       "    </tr>\n",
       "    <tr>\n",
       "      <th>...</th>\n",
       "      <td>...</td>\n",
       "      <td>...</td>\n",
       "      <td>...</td>\n",
       "      <td>...</td>\n",
       "      <td>...</td>\n",
       "      <td>...</td>\n",
       "      <td>...</td>\n",
       "      <td>...</td>\n",
       "      <td>...</td>\n",
       "      <td>...</td>\n",
       "      <td>...</td>\n",
       "      <td>...</td>\n",
       "      <td>...</td>\n",
       "      <td>...</td>\n",
       "      <td>...</td>\n",
       "      <td>...</td>\n",
       "      <td>...</td>\n",
       "      <td>...</td>\n",
       "      <td>...</td>\n",
       "      <td>...</td>\n",
       "      <td>...</td>\n",
       "    </tr>\n",
       "    <tr>\n",
       "      <th>26923</th>\n",
       "      <td>Zhytomyr</td>\n",
       "      <td>Zhytomyrskyi</td>\n",
       "      <td>Zhytomyrska</td>\n",
       "      <td>Zhytomyr</td>\n",
       "      <td>50.2649</td>\n",
       "      <td>28.6767</td>\n",
       "      <td>2023-03-22</td>\n",
       "      <td>2023</td>\n",
       "      <td>3</td>\n",
       "      <td>Explosions/Remote violence</td>\n",
       "      <td>...</td>\n",
       "      <td>0</td>\n",
       "      <td>0</td>\n",
       "      <td>-78.562019</td>\n",
       "      <td>-5.883148</td>\n",
       "      <td>0.000000</td>\n",
       "      <td>5.000000e+01</td>\n",
       "      <td>5.704366e-12</td>\n",
       "      <td>30.0</td>\n",
       "      <td>False</td>\n",
       "      <td>30.0</td>\n",
       "    </tr>\n",
       "    <tr>\n",
       "      <th>26924</th>\n",
       "      <td>Zhytomyr</td>\n",
       "      <td>Zhytomyrskyi</td>\n",
       "      <td>Zhytomyrska</td>\n",
       "      <td>Zhytomyr</td>\n",
       "      <td>50.2649</td>\n",
       "      <td>28.6767</td>\n",
       "      <td>2023-04-21</td>\n",
       "      <td>2023</td>\n",
       "      <td>4</td>\n",
       "      <td>Explosions/Remote violence</td>\n",
       "      <td>...</td>\n",
       "      <td>0</td>\n",
       "      <td>0</td>\n",
       "      <td>-78.562019</td>\n",
       "      <td>-5.883148</td>\n",
       "      <td>0.000000</td>\n",
       "      <td>5.000000e+01</td>\n",
       "      <td>5.704366e-12</td>\n",
       "      <td>30.0</td>\n",
       "      <td>False</td>\n",
       "      <td>30.0</td>\n",
       "    </tr>\n",
       "    <tr>\n",
       "      <th>26925</th>\n",
       "      <td>Zhytomyr</td>\n",
       "      <td>Zhytomyrskyi</td>\n",
       "      <td>Zhytomyrska</td>\n",
       "      <td>Zhytomyr</td>\n",
       "      <td>50.2649</td>\n",
       "      <td>28.6767</td>\n",
       "      <td>2023-05-18</td>\n",
       "      <td>2023</td>\n",
       "      <td>5</td>\n",
       "      <td>Explosions/Remote violence</td>\n",
       "      <td>...</td>\n",
       "      <td>0</td>\n",
       "      <td>0</td>\n",
       "      <td>-78.562019</td>\n",
       "      <td>-5.883148</td>\n",
       "      <td>0.000000</td>\n",
       "      <td>5.000000e+01</td>\n",
       "      <td>5.704366e-12</td>\n",
       "      <td>30.0</td>\n",
       "      <td>False</td>\n",
       "      <td>30.0</td>\n",
       "    </tr>\n",
       "    <tr>\n",
       "      <th>26926</th>\n",
       "      <td>Zhytomyr</td>\n",
       "      <td>Zhytomyrskyi</td>\n",
       "      <td>Zhytomyrska</td>\n",
       "      <td>Zhytomyr</td>\n",
       "      <td>50.2649</td>\n",
       "      <td>28.6767</td>\n",
       "      <td>2023-05-28</td>\n",
       "      <td>2023</td>\n",
       "      <td>5</td>\n",
       "      <td>Explosions/Remote violence</td>\n",
       "      <td>...</td>\n",
       "      <td>0</td>\n",
       "      <td>0</td>\n",
       "      <td>239.017807</td>\n",
       "      <td>-222.357086</td>\n",
       "      <td>384.340881</td>\n",
       "      <td>2.254828e-07</td>\n",
       "      <td>5.704366e-12</td>\n",
       "      <td>30.0</td>\n",
       "      <td>False</td>\n",
       "      <td>30.0</td>\n",
       "    </tr>\n",
       "    <tr>\n",
       "      <th>26927</th>\n",
       "      <td>Zhytomyr</td>\n",
       "      <td>Zhytomyrskyi</td>\n",
       "      <td>Zhytomyrska</td>\n",
       "      <td>Zhytomyr</td>\n",
       "      <td>50.2649</td>\n",
       "      <td>28.6767</td>\n",
       "      <td>2023-07-25</td>\n",
       "      <td>2023</td>\n",
       "      <td>7</td>\n",
       "      <td>Explosions/Remote violence</td>\n",
       "      <td>...</td>\n",
       "      <td>0</td>\n",
       "      <td>0</td>\n",
       "      <td>-78.562019</td>\n",
       "      <td>-5.883148</td>\n",
       "      <td>0.000000</td>\n",
       "      <td>5.000000e+01</td>\n",
       "      <td>5.704366e-12</td>\n",
       "      <td>30.0</td>\n",
       "      <td>False</td>\n",
       "      <td>30.0</td>\n",
       "    </tr>\n",
       "  </tbody>\n",
       "</table>\n",
       "<p>7840 rows × 27 columns</p>\n",
       "</div>"
      ],
      "text/plain": [
       "         admin1        admin2       admin3  location  latitude  longitude   \n",
       "0      Cherkasy    Cherkaskyi    Chepkaska  Cherkasy   49.4285    32.0621  \\\n",
       "1      Cherkasy    Cherkaskyi    Chepkaska  Cherkasy   49.4285    32.0621   \n",
       "2      Cherkasy    Cherkaskyi    Chepkaska  Cherkasy   49.4285    32.0621   \n",
       "3      Cherkasy    Cherkaskyi    Chepkaska  Cherkasy   49.4285    32.0621   \n",
       "4      Cherkasy    Cherkaskyi    Chepkaska  Cherkasy   49.4285    32.0621   \n",
       "...         ...           ...          ...       ...       ...        ...   \n",
       "26923  Zhytomyr  Zhytomyrskyi  Zhytomyrska  Zhytomyr   50.2649    28.6767   \n",
       "26924  Zhytomyr  Zhytomyrskyi  Zhytomyrska  Zhytomyr   50.2649    28.6767   \n",
       "26925  Zhytomyr  Zhytomyrskyi  Zhytomyrska  Zhytomyr   50.2649    28.6767   \n",
       "26926  Zhytomyr  Zhytomyrskyi  Zhytomyrska  Zhytomyr   50.2649    28.6767   \n",
       "26927  Zhytomyr  Zhytomyrskyi  Zhytomyrska  Zhytomyr   50.2649    28.6767   \n",
       "\n",
       "      event_date  year  month                  event_type  ...   \n",
       "0     2023-05-09  2023      5  Explosions/Remote violence  ...  \\\n",
       "1     2023-06-28  2023      6  Explosions/Remote violence  ...   \n",
       "2     2023-07-06  2023      7  Explosions/Remote violence  ...   \n",
       "3     2023-07-12  2023      7  Explosions/Remote violence  ...   \n",
       "4     2023-07-25  2023      7  Explosions/Remote violence  ...   \n",
       "...          ...   ...    ...                         ...  ...   \n",
       "26923 2023-03-22  2023      3  Explosions/Remote violence  ...   \n",
       "26924 2023-04-21  2023      4  Explosions/Remote violence  ...   \n",
       "26925 2023-05-18  2023      5  Explosions/Remote violence  ...   \n",
       "26926 2023-05-28  2023      5  Explosions/Remote violence  ...   \n",
       "26927 2023-07-25  2023      7  Explosions/Remote violence  ...   \n",
       "\n",
       "      event_explosions_civilians  event_violence_civilians      tsne_0   \n",
       "0                              0                         0  -78.562019  \\\n",
       "1                              0                         0  -78.562019   \n",
       "2                              0                         0  -78.562019   \n",
       "3                              1                         0   87.655083   \n",
       "4                              0                         0  -78.562019   \n",
       "...                          ...                       ...         ...   \n",
       "26923                          0                         0  -78.562019   \n",
       "26924                          0                         0  -78.562019   \n",
       "26925                          0                         0  -78.562019   \n",
       "26926                          0                         0  239.017807   \n",
       "26927                          0                         0  -78.562019   \n",
       "\n",
       "           tsne_1  distance_to_densest  tsne_distance_points  distance_points   \n",
       "0       -5.883148             0.000000          5.000000e+01     1.968596e-06  \\\n",
       "1       -5.883148             0.000000          5.000000e+01     1.968596e-06   \n",
       "2       -5.883148             0.000000          5.000000e+01     1.968596e-06   \n",
       "3      188.640533           255.866348          1.389641e-04     1.968596e-06   \n",
       "4       -5.883148             0.000000          5.000000e+01     1.968596e-06   \n",
       "...           ...                  ...                   ...              ...   \n",
       "26923   -5.883148             0.000000          5.000000e+01     5.704366e-12   \n",
       "26924   -5.883148             0.000000          5.000000e+01     5.704366e-12   \n",
       "26925   -5.883148             0.000000          5.000000e+01     5.704366e-12   \n",
       "26926 -222.357086           384.340881          2.254828e-07     5.704366e-12   \n",
       "26927   -5.883148             0.000000          5.000000e+01     5.704366e-12   \n",
       "\n",
       "       hazard_score  found  new_hazard  \n",
       "0              30.0  False        30.0  \n",
       "1              30.0  False        30.0  \n",
       "2              30.0  False        30.0  \n",
       "3              30.0  False        30.0  \n",
       "4              30.0  False        30.0  \n",
       "...             ...    ...         ...  \n",
       "26923          30.0  False        30.0  \n",
       "26924          30.0  False        30.0  \n",
       "26925          30.0  False        30.0  \n",
       "26926          30.0  False        30.0  \n",
       "26927          30.0  False        30.0  \n",
       "\n",
       "[7840 rows x 27 columns]"
      ]
     },
     "execution_count": 98,
     "metadata": {},
     "output_type": "execute_result"
    }
   ],
   "source": [
    "df_agg[df_agg['new_hazard']<90]"
   ]
  }
 ],
 "metadata": {
  "kernelspec": {
   "display_name": "mlenv",
   "language": "python",
   "name": "mlenv"
  },
  "language_info": {
   "codemirror_mode": {
    "name": "ipython",
    "version": 3
   },
   "file_extension": ".py",
   "mimetype": "text/x-python",
   "name": "python",
   "nbconvert_exporter": "python",
   "pygments_lexer": "ipython3",
   "version": "3.11.4"
  },
  "orig_nbformat": 4
 },
 "nbformat": 4,
 "nbformat_minor": 2
}
