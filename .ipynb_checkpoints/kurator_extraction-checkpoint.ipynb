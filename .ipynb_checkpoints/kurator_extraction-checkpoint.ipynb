{
 "cells": [
  {
   "cell_type": "code",
   "execution_count": 2,
   "id": "d4e29140",
   "metadata": {},
   "outputs": [],
   "source": [
    "import pandas as pd \n",
    "import numpy as np "
   ]
  },
  {
   "cell_type": "code",
   "execution_count": 19,
   "id": "5f0599e3",
   "metadata": {},
   "outputs": [],
   "source": [
    "df_msgs = pd.read_excel('msgs_kurator.xlsx')"
   ]
  },
  {
   "cell_type": "code",
   "execution_count": 20,
   "id": "bfc68194",
   "metadata": {},
   "outputs": [
    {
     "data": {
      "text/html": [
       "<div>\n",
       "<style scoped>\n",
       "    .dataframe tbody tr th:only-of-type {\n",
       "        vertical-align: middle;\n",
       "    }\n",
       "\n",
       "    .dataframe tbody tr th {\n",
       "        vertical-align: top;\n",
       "    }\n",
       "\n",
       "    .dataframe thead th {\n",
       "        text-align: right;\n",
       "    }\n",
       "</style>\n",
       "<table border=\"1\" class=\"dataframe\">\n",
       "  <thead>\n",
       "    <tr style=\"text-align: right;\">\n",
       "      <th></th>\n",
       "      <th>signature</th>\n",
       "      <th>channel_id</th>\n",
       "      <th>channel_name</th>\n",
       "      <th>msg_id</th>\n",
       "      <th>message</th>\n",
       "      <th>cleaned_message</th>\n",
       "      <th>date</th>\n",
       "      <th>msg_link</th>\n",
       "      <th>msg_from_peer</th>\n",
       "      <th>msg_from_id</th>\n",
       "      <th>...</th>\n",
       "      <th>contact_name</th>\n",
       "      <th>contact_userid</th>\n",
       "      <th>geo_type</th>\n",
       "      <th>lat</th>\n",
       "      <th>lng</th>\n",
       "      <th>venue_id</th>\n",
       "      <th>venue_type</th>\n",
       "      <th>venue_title</th>\n",
       "      <th>venue_address</th>\n",
       "      <th>venue_provider</th>\n",
       "    </tr>\n",
       "  </thead>\n",
       "  <tbody>\n",
       "    <tr>\n",
       "      <th>0</th>\n",
       "      <td>msg_iteration.0.user.kurator_oblasti.post.4049</td>\n",
       "      <td>1497035421</td>\n",
       "      <td>kurator_oblasti</td>\n",
       "      <td>4049</td>\n",
       "      <td>Гелікоптери Мі-24В, які Чехія передала Україні...</td>\n",
       "      <td>Гелікоптери Мі-24В, які Чехія передала Україні...</td>\n",
       "      <td>2023-04-29 13:32:33</td>\n",
       "      <td>https://t.me/kurator_oblasti/4049</td>\n",
       "      <td>NaN</td>\n",
       "      <td>NaN</td>\n",
       "      <td>...</td>\n",
       "      <td>NaN</td>\n",
       "      <td>NaN</td>\n",
       "      <td>NaN</td>\n",
       "      <td>NaN</td>\n",
       "      <td>NaN</td>\n",
       "      <td>NaN</td>\n",
       "      <td>NaN</td>\n",
       "      <td>NaN</td>\n",
       "      <td>NaN</td>\n",
       "      <td>NaN</td>\n",
       "    </tr>\n",
       "    <tr>\n",
       "      <th>1</th>\n",
       "      <td>msg_iteration.1.user.kurator_oblasti.post.4048</td>\n",
       "      <td>1497035421</td>\n",
       "      <td>kurator_oblasti</td>\n",
       "      <td>4048</td>\n",
       "      <td>⚠️  Унаслідок вибуху в Севастополі знищено пон...</td>\n",
       "      <td>⚠️ Унаслідок вибуху в Севастополі знищено пона...</td>\n",
       "      <td>2023-04-29 04:09:47</td>\n",
       "      <td>https://t.me/kurator_oblasti/4048</td>\n",
       "      <td>NaN</td>\n",
       "      <td>NaN</td>\n",
       "      <td>...</td>\n",
       "      <td>NaN</td>\n",
       "      <td>NaN</td>\n",
       "      <td>NaN</td>\n",
       "      <td>NaN</td>\n",
       "      <td>NaN</td>\n",
       "      <td>NaN</td>\n",
       "      <td>NaN</td>\n",
       "      <td>NaN</td>\n",
       "      <td>NaN</td>\n",
       "      <td>NaN</td>\n",
       "    </tr>\n",
       "    <tr>\n",
       "      <th>2</th>\n",
       "      <td>msg_iteration.2.user.kurator_oblasti.post.4047</td>\n",
       "      <td>1497035421</td>\n",
       "      <td>kurator_oblasti</td>\n",
       "      <td>4047</td>\n",
       "      <td>NaN</td>\n",
       "      <td>NaN</td>\n",
       "      <td>2023-04-29 02:21:11</td>\n",
       "      <td>https://t.me/kurator_oblasti/4047</td>\n",
       "      <td>NaN</td>\n",
       "      <td>NaN</td>\n",
       "      <td>...</td>\n",
       "      <td>NaN</td>\n",
       "      <td>NaN</td>\n",
       "      <td>NaN</td>\n",
       "      <td>NaN</td>\n",
       "      <td>NaN</td>\n",
       "      <td>NaN</td>\n",
       "      <td>NaN</td>\n",
       "      <td>NaN</td>\n",
       "      <td>NaN</td>\n",
       "      <td>NaN</td>\n",
       "    </tr>\n",
       "    <tr>\n",
       "      <th>3</th>\n",
       "      <td>msg_iteration.3.user.kurator_oblasti.post.4046</td>\n",
       "      <td>1497035421</td>\n",
       "      <td>kurator_oblasti</td>\n",
       "      <td>4046</td>\n",
       "      <td>NaN</td>\n",
       "      <td>NaN</td>\n",
       "      <td>2023-04-29 02:21:11</td>\n",
       "      <td>https://t.me/kurator_oblasti/4046</td>\n",
       "      <td>NaN</td>\n",
       "      <td>NaN</td>\n",
       "      <td>...</td>\n",
       "      <td>NaN</td>\n",
       "      <td>NaN</td>\n",
       "      <td>NaN</td>\n",
       "      <td>NaN</td>\n",
       "      <td>NaN</td>\n",
       "      <td>NaN</td>\n",
       "      <td>NaN</td>\n",
       "      <td>NaN</td>\n",
       "      <td>NaN</td>\n",
       "      <td>NaN</td>\n",
       "    </tr>\n",
       "    <tr>\n",
       "      <th>4</th>\n",
       "      <td>msg_iteration.4.user.kurator_oblasti.post.4045</td>\n",
       "      <td>1497035421</td>\n",
       "      <td>kurator_oblasti</td>\n",
       "      <td>4045</td>\n",
       "      <td>NaN</td>\n",
       "      <td>NaN</td>\n",
       "      <td>2023-04-29 02:21:11</td>\n",
       "      <td>https://t.me/kurator_oblasti/4045</td>\n",
       "      <td>NaN</td>\n",
       "      <td>NaN</td>\n",
       "      <td>...</td>\n",
       "      <td>NaN</td>\n",
       "      <td>NaN</td>\n",
       "      <td>NaN</td>\n",
       "      <td>NaN</td>\n",
       "      <td>NaN</td>\n",
       "      <td>NaN</td>\n",
       "      <td>NaN</td>\n",
       "      <td>NaN</td>\n",
       "      <td>NaN</td>\n",
       "      <td>NaN</td>\n",
       "    </tr>\n",
       "  </tbody>\n",
       "</table>\n",
       "<p>5 rows × 49 columns</p>\n",
       "</div>"
      ],
      "text/plain": [
       "                                        signature  channel_id  \\\n",
       "0  msg_iteration.0.user.kurator_oblasti.post.4049  1497035421   \n",
       "1  msg_iteration.1.user.kurator_oblasti.post.4048  1497035421   \n",
       "2  msg_iteration.2.user.kurator_oblasti.post.4047  1497035421   \n",
       "3  msg_iteration.3.user.kurator_oblasti.post.4046  1497035421   \n",
       "4  msg_iteration.4.user.kurator_oblasti.post.4045  1497035421   \n",
       "\n",
       "      channel_name  msg_id                                            message  \\\n",
       "0  kurator_oblasti    4049  Гелікоптери Мі-24В, які Чехія передала Україні...   \n",
       "1  kurator_oblasti    4048  ⚠️  Унаслідок вибуху в Севастополі знищено пон...   \n",
       "2  kurator_oblasti    4047                                                NaN   \n",
       "3  kurator_oblasti    4046                                                NaN   \n",
       "4  kurator_oblasti    4045                                                NaN   \n",
       "\n",
       "                                     cleaned_message                date  \\\n",
       "0  Гелікоптери Мі-24В, які Чехія передала Україні... 2023-04-29 13:32:33   \n",
       "1  ⚠️ Унаслідок вибуху в Севастополі знищено пона... 2023-04-29 04:09:47   \n",
       "2                                                NaN 2023-04-29 02:21:11   \n",
       "3                                                NaN 2023-04-29 02:21:11   \n",
       "4                                                NaN 2023-04-29 02:21:11   \n",
       "\n",
       "                            msg_link  msg_from_peer  msg_from_id  ...  \\\n",
       "0  https://t.me/kurator_oblasti/4049            NaN          NaN  ...   \n",
       "1  https://t.me/kurator_oblasti/4048            NaN          NaN  ...   \n",
       "2  https://t.me/kurator_oblasti/4047            NaN          NaN  ...   \n",
       "3  https://t.me/kurator_oblasti/4046            NaN          NaN  ...   \n",
       "4  https://t.me/kurator_oblasti/4045            NaN          NaN  ...   \n",
       "\n",
       "   contact_name  contact_userid  geo_type  lat lng  venue_id venue_type  \\\n",
       "0           NaN             NaN       NaN  NaN NaN       NaN        NaN   \n",
       "1           NaN             NaN       NaN  NaN NaN       NaN        NaN   \n",
       "2           NaN             NaN       NaN  NaN NaN       NaN        NaN   \n",
       "3           NaN             NaN       NaN  NaN NaN       NaN        NaN   \n",
       "4           NaN             NaN       NaN  NaN NaN       NaN        NaN   \n",
       "\n",
       "  venue_title venue_address venue_provider  \n",
       "0         NaN           NaN            NaN  \n",
       "1         NaN           NaN            NaN  \n",
       "2         NaN           NaN            NaN  \n",
       "3         NaN           NaN            NaN  \n",
       "4         NaN           NaN            NaN  \n",
       "\n",
       "[5 rows x 49 columns]"
      ]
     },
     "execution_count": 20,
     "metadata": {},
     "output_type": "execute_result"
    }
   ],
   "source": [
    "df_msgs.head()"
   ]
  },
  {
   "cell_type": "code",
   "execution_count": 21,
   "id": "59548a77",
   "metadata": {},
   "outputs": [],
   "source": [
    "df_msgs.dropna(subset=['message'], inplace=True) #drops rows which have NaN values in message column"
   ]
  },
  {
   "cell_type": "code",
   "execution_count": 25,
   "id": "33ebc9f9",
   "metadata": {},
   "outputs": [
    {
     "data": {
      "text/plain": [
       "0    Гелікоптери Мі-24В, які Чехія передала Україні...\n",
       "1    ⚠️ Унаслідок вибуху в Севастополі знищено пона...\n",
       "6    Окупанти обстріляли селище Малаторівка під Кра...\n",
       "7         Севастополь, Крим. БпЛА атакували нафтобазу.\n",
       "8    В Умані, під час розбору завалів зруйнованої б...\n",
       "Name: cleaned_message, dtype: object"
      ]
     },
     "execution_count": 25,
     "metadata": {},
     "output_type": "execute_result"
    }
   ],
   "source": [
    "df = df_msgs['cleaned_message']\n",
    "df.head()"
   ]
  },
  {
   "cell_type": "code",
   "execution_count": 29,
   "id": "8cab60a5",
   "metadata": {},
   "outputs": [],
   "source": [
    "import spacy\n",
    "from spacy.lang.uk.examples import sentences "
   ]
  },
  {
   "cell_type": "code",
   "execution_count": 31,
   "id": "2135c90a",
   "metadata": {},
   "outputs": [],
   "source": [
    "nlp = spacy.load(\"uk_core_news_sm\")"
   ]
  },
  {
   "cell_type": "code",
   "execution_count": 52,
   "id": "284463a6",
   "metadata": {},
   "outputs": [],
   "source": [
    "docs = []\n",
    "for i, msg in enumerate(df):\n",
    "    doc = nlp(msg)\n",
    "    docs.append(doc)\n"
   ]
  },
  {
   "cell_type": "code",
   "execution_count": 90,
   "id": "0ca2c96a",
   "metadata": {},
   "outputs": [],
   "source": [
    "def extract_casualties(doc):\n",
    "    casualties = []\n",
    "    for token in doc:\n",
    "        if token.text.isdigit() and token.dep_ == \"nummod\":\n",
    "            prev_token = doc[token.i - 1] if token.i > 0 else None\n",
    "            next_token = doc[token.i + 1]\n",
    "            if next_token.pos_ in [\"NOUN\", \"PROPN\"]:\n",
    "                if prev_token:\n",
    "                    casualties.append((prev_token.text, token.text, next_token.text))\n",
    "    return casualties\n"
   ]
  },
  {
   "cell_type": "code",
   "execution_count": 91,
   "id": "0dde7e5e",
   "metadata": {},
   "outputs": [],
   "source": [
    "casualties = []\n",
    "for i, doc in enumerate(docs):\n",
    "    data = (extract_casualties(doc))\n",
    "    if len(data) != 0:\n",
    "        casualties.append(data)"
   ]
  },
  {
   "cell_type": "markdown",
   "id": "838df12d",
   "metadata": {},
   "source": [
    "## BERT & HuggingFace"
   ]
  },
  {
   "cell_type": "code",
   "execution_count": 93,
   "id": "8584ba0f",
   "metadata": {},
   "outputs": [
    {
     "name": "stderr",
     "output_type": "stream",
     "text": [
      "None of PyTorch, TensorFlow >= 2.0, or Flax have been found. Models won't be available and only tokenizers, configuration and file/data utilities can be used.\n"
     ]
    }
   ],
   "source": [
    "import re \n",
    "from transformers import pipeline"
   ]
  },
  {
   "cell_type": "code",
   "execution_count": null,
   "id": "7d4bf15a",
   "metadata": {},
   "outputs": [],
   "source": []
  }
 ],
 "metadata": {
  "kernelspec": {
   "display_name": "Python 3 (ipykernel)",
   "language": "python",
   "name": "python3"
  },
  "language_info": {
   "codemirror_mode": {
    "name": "ipython",
    "version": 3
   },
   "file_extension": ".py",
   "mimetype": "text/x-python",
   "name": "python",
   "nbconvert_exporter": "python",
   "pygments_lexer": "ipython3",
   "version": "3.10.0"
  }
 },
 "nbformat": 4,
 "nbformat_minor": 5
}
